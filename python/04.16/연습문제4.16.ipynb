{
 "cells": [
  {
   "cell_type": "markdown",
   "id": "4a98e5fc",
   "metadata": {},
   "source": [
    "### 연습문제 1\n",
    "- 사용자 숫자 입력 받는다\n",
    "- 짝수 / 홀수\n",
    "- 음수 : 잘못 입력했습니다."
   ]
  },
  {
   "cell_type": "code",
   "execution_count": 12,
   "id": "375586cd",
   "metadata": {},
   "outputs": [
    {
     "name": "stdout",
     "output_type": "stream",
     "text": [
      "짝수입니다.\n"
     ]
    }
   ],
   "source": [
    "number = int(input(\"숫자를 입력하세요 : \"))\n",
    "\n",
    "if number < 0 :\n",
    "    print(\"잘못 입력하셨습니다.\")\n",
    "elif number % 2 == 0 :\n",
    "    print(\"짝수입니다.\")\n",
    "elif number % 2 == 1 :  # -> eles으로 해도 문제 없음\n",
    "    print(\"홀수입니다.\")\n"
   ]
  },
  {
   "cell_type": "markdown",
   "id": "6d6213ab",
   "metadata": {},
   "source": [
    "\n",
    "### 조건에 따른 필터링\n",
    "### 점수가 90점 이상인친구만 출력\n",
    "scores = {'Alice': 95, 'Bob': 88, 'Charlie': 92}"
   ]
  },
  {
   "cell_type": "code",
   "execution_count": null,
   "id": "2b89ddfb",
   "metadata": {},
   "outputs": [
    {
     "name": "stdout",
     "output_type": "stream",
     "text": [
      "90점 이상인 친구 :  ['Alice', 'Charlie']\n"
     ]
    }
   ],
   "source": [
    "scores = {'Alice': 95, 'Bob': 88, 'Charlie': 92}\n",
    "list90 = []\n",
    "for key, var in scores.items() :\n",
    "    if var >= 90 :\n",
    "        list90.append(key)\n",
    "print(\"90점 이상인 친구 : \",list90)"
   ]
  },
  {
   "cell_type": "markdown",
   "id": "11be6dae",
   "metadata": {},
   "source": [
    "### 활용 예제 1.  구구단 2단 작성하기 "
   ]
  },
  {
   "cell_type": "code",
   "execution_count": 18,
   "id": "f929115e",
   "metadata": {},
   "outputs": [
    {
     "name": "stdout",
     "output_type": "stream",
     "text": [
      "2 X  1 = 2\n",
      "2 X  2 = 4\n",
      "2 X  3 = 6\n",
      "2 X  4 = 8\n",
      "2 X  5 = 10\n",
      "2 X  6 = 12\n",
      "2 X  7 = 14\n",
      "2 X  8 = 16\n",
      "2 X  9 = 18\n"
     ]
    }
   ],
   "source": [
    "for i in range(1,10) :\n",
    "    print(f\"2 X  {i} =\",(2*i))"
   ]
  },
  {
   "cell_type": "code",
   "execution_count": 32,
   "id": "7744b3f7",
   "metadata": {},
   "outputs": [
    {
     "name": "stdout",
     "output_type": "stream",
     "text": [
      "2 X 1 =  2\t3 X 1 =  3\t4 X 1 =  4\t5 X 1 =  5\t6 X 1 =  6\t7 X 1 =  7\t8 X 1 =  8\t9 X 1 =  9\t\n",
      "2 X 2 =  4\t3 X 2 =  6\t4 X 2 =  8\t5 X 2 =  10\t6 X 2 =  12\t7 X 2 =  14\t8 X 2 =  16\t9 X 2 =  18\t\n",
      "2 X 3 =  6\t3 X 3 =  9\t4 X 3 =  12\t5 X 3 =  15\t6 X 3 =  18\t7 X 3 =  21\t8 X 3 =  24\t9 X 3 =  27\t\n",
      "2 X 4 =  8\t3 X 4 =  12\t4 X 4 =  16\t5 X 4 =  20\t6 X 4 =  24\t7 X 4 =  28\t8 X 4 =  32\t9 X 4 =  36\t\n",
      "2 X 5 =  10\t3 X 5 =  15\t4 X 5 =  20\t5 X 5 =  25\t6 X 5 =  30\t7 X 5 =  35\t8 X 5 =  40\t9 X 5 =  45\t\n",
      "2 X 6 =  12\t3 X 6 =  18\t4 X 6 =  24\t5 X 6 =  30\t6 X 6 =  36\t7 X 6 =  42\t8 X 6 =  48\t9 X 6 =  54\t\n",
      "2 X 7 =  14\t3 X 7 =  21\t4 X 7 =  28\t5 X 7 =  35\t6 X 7 =  42\t7 X 7 =  49\t8 X 7 =  56\t9 X 7 =  63\t\n",
      "2 X 8 =  16\t3 X 8 =  24\t4 X 8 =  32\t5 X 8 =  40\t6 X 8 =  48\t7 X 8 =  56\t8 X 8 =  64\t9 X 8 =  72\t\n",
      "2 X 9 =  18\t3 X 9 =  27\t4 X 9 =  36\t5 X 9 =  45\t6 X 9 =  54\t7 X 9 =  63\t8 X 9 =  72\t9 X 9 =  81\t\n"
     ]
    }
   ],
   "source": [
    "## 활용 예제 2. 구구단 9단까지 모두 작성하기 \n",
    "for i in range(1,10) :\n",
    "    for j in range(2,10) :\n",
    "        print(f\"{j} X {i} = \",(i*j), end=\"\\t\" )\n",
    "    print()"
   ]
  },
  {
   "cell_type": "markdown",
   "id": "d9e2bce3",
   "metadata": {},
   "source": [
    "### 활용 예제 1.  비밀 번호 맞추는 게임 한자리 숫자"
   ]
  },
  {
   "cell_type": "code",
   "execution_count": 33,
   "id": "f40ea8b6",
   "metadata": {},
   "outputs": [
    {
     "name": "stdout",
     "output_type": "stream",
     "text": [
      "비밀번호를 틀렸습니다 (틀린횟수:1).\n",
      "비밀번호를 틀렸습니다 (틀린횟수:2).\n",
      "비밀번호를 틀렸습니다 (틀린횟수:3).\n",
      "비밀번호가 맞았습니다\n"
     ]
    }
   ],
   "source": [
    "correct_password = \"1\"\n",
    "count = 1\n",
    "user_password = input(\"비밀번호를 입력하세요 : \")\n",
    "while(user_password != correct_password) :\n",
    "    print(f\"비밀번호를 틀렸습니다 (틀린횟수:{count}).\")\n",
    "    count += 1\n",
    "    user_password = input(f\"비밀번호를 입력하세요 : \")\n",
    "\n",
    "print(\"비밀번호가 맞았습니다\")\n"
   ]
  }
 ],
 "metadata": {
  "kernelspec": {
   "display_name": "Python 3",
   "language": "python",
   "name": "python3"
  },
  "language_info": {
   "codemirror_mode": {
    "name": "ipython",
    "version": 3
   },
   "file_extension": ".py",
   "mimetype": "text/x-python",
   "name": "python",
   "nbconvert_exporter": "python",
   "pygments_lexer": "ipython3",
   "version": "3.13.3"
  }
 },
 "nbformat": 4,
 "nbformat_minor": 5
}
