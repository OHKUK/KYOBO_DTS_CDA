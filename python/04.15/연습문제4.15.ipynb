{
 "cells": [
  {
   "cell_type": "markdown",
   "id": "04672bc0",
   "metadata": {},
   "source": [
    "### 연습문제 1 반복된 요소 제거\n",
    "\n",
    "number = [1,2,2,3,3,4,4,5,5,5]"
   ]
  },
  {
   "cell_type": "code",
   "execution_count": 2,
   "id": "241af296",
   "metadata": {},
   "outputs": [
    {
     "name": "stdout",
     "output_type": "stream",
     "text": [
      "[1, 2, 3, 4, 5]\n"
     ]
    }
   ],
   "source": [
    "number = [1,2,2,3,3,4,4,5,5,5]\n",
    "number = list(set(number))\n",
    "print(number)"
   ]
  },
  {
   "cell_type": "markdown",
   "id": "6c0830dc",
   "metadata": {},
   "source": [
    "### 연습문제 2 결제금액 계산하기\n",
    "price = {'apple':1000, 'banana':500, 'mango':2000}\n",
    "사과 망고 바나나 수를 input으로 받고\n",
    "각 과일 5개 사면 20% 할인\n",
    "총 결제금액 출력"
   ]
  },
  {
   "cell_type": "code",
   "execution_count": 15,
   "id": "00d3a1fe",
   "metadata": {},
   "outputs": [
    {
     "name": "stdout",
     "output_type": "stream",
     "text": [
      "사과 2개의 금액은 2000원입니다\n",
      "바나나 2개의 금액은 1000원입니다\n",
      "망고 2개의 금액은 4000원입니다\n",
      "총금액은 7000원 총 6개 샀어요\n"
     ]
    }
   ],
   "source": [
    "\n",
    "price = {'apple':1000, 'banana':500, 'mango':2000}\n",
    "\n",
    "a = int(input(\"사과 살만큼 입력해요\"))\n",
    "b = int(input(\"바나나 살만큼 입력해요\"))\n",
    "m = int(input(\"망고 살만큼 입력해요\"))\n",
    "asum = 0\n",
    "bsum = 0\n",
    "msum = 0\n",
    "if a > 0 :\n",
    "    asum = price['apple'] * a\n",
    "    if a >= 5 :\n",
    "        asum *= 0.8\n",
    "    print(\"사과 {}개의 금액은 {}원입니다\".format(a,int(asum)))\n",
    "else :\n",
    "    print(\"사과 안사요?\") \n",
    "if b > 0 :\n",
    "    bsum = price['banana'] * b\n",
    "    if b >= 5 :\n",
    "        bsum *= 0.8\n",
    "    print(\"바나나 {}개의 금액은 {}원입니다\".format(b,int(bsum)))\n",
    "else :\n",
    "    print(\"바나나 안사요?\") \n",
    "if m > 0 :\n",
    "    msum = price['mango'] * m\n",
    "    if m >= 5 :\n",
    "        msum *= 0.8\n",
    "    print(\"망고 {}개의 금액은 {}원입니다\".format(m,int(msum)))\n",
    "else :\n",
    "    print(\"망고 안사요?\") \n",
    "sum = asum + bsum + msum\n",
    "counut1 = a + b  + m\n",
    "print(\"총금액은 {}원 총 {}개 샀어요\".format(int(sum), counut1))"
   ]
  }
 ],
 "metadata": {
  "kernelspec": {
   "display_name": "Python 3",
   "language": "python",
   "name": "python3"
  },
  "language_info": {
   "codemirror_mode": {
    "name": "ipython",
    "version": 3
   },
   "file_extension": ".py",
   "mimetype": "text/x-python",
   "name": "python",
   "nbconvert_exporter": "python",
   "pygments_lexer": "ipython3",
   "version": "3.13.3"
  }
 },
 "nbformat": 4,
 "nbformat_minor": 5
}
